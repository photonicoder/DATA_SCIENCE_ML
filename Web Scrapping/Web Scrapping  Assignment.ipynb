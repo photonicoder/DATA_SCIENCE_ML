{
 "cells": [
  {
   "cell_type": "markdown",
   "metadata": {},
   "source": [
    "# Print the data of first 3 movies\n",
    "From this link\n",
    "\n",
    "URL='https://www.imdb.com/search/title/?release_date=2018&sort=num_votes,desc&page=1&ref_=adv_nxt'\n",
    "\n",
    "Find and print the name and genre of the first 3 titles"
   ]
  },
  {
   "cell_type": "code",
   "execution_count": 10,
   "metadata": {},
   "outputs": [
    {
     "name": "stdout",
     "output_type": "stream",
     "text": [
      "Avengers: Infinity War : Action, Adventure, Sci-Fi\n",
      "Black Panther : Action, Adventure, Sci-Fi\n",
      "Deadpool 2 : Action, Adventure, Comedy\n"
     ]
    }
   ],
   "source": [
    "import pandas as pd\n",
    "import requests\n",
    "import re\n",
    "from bs4 import BeautifulSoup\n",
    "response=requests.get('https://www.imdb.com/search/title/?release_date=2018&sort=num_votes,desc&page=1&ref_=adv_nxt')\n",
    "data=BeautifulSoup(response.text,'html.parser')\n",
    "name=data.find_all('h3')\n",
    "genre=data.find_all(class_='genre')\n",
    "for i in range(3):\n",
    "    print(name[i].a.string,':',genre[i].string.strip())\n"
   ]
  },
  {
   "cell_type": "markdown",
   "metadata": {},
   "source": [
    "# Titles with most votes\n",
    "###### Link to use\n",
    " URL:'https://www.imdb.com/search/title/?release_date=2018&sort=num_votes,desc&page=1&ref_=adv_nxt'\n",
    "\n",
    "###### Print the names of movies with highest number of votes from year 2010 to 2014\n",
    "# Note : Print the titles line wise starting from year\n"
   ]
  },
  {
   "cell_type": "code",
   "execution_count": 20,
   "metadata": {},
   "outputs": [
    {
     "name": "stdout",
     "output_type": "stream",
     "text": [
      "Inception\n",
      "Game of Thrones\n",
      "The Dark Knight Rises\n",
      "The Wolf of Wall Street\n",
      "Interstellar\n"
     ]
    }
   ],
   "source": [
    "import pandas as pd\n",
    "import requests\n",
    "import re\n",
    "from bs4 import BeautifulSoup\n",
    "base_url1='https://www.imdb.com/search/title/?release_date='## url of 1\n",
    "base_url2='&sort=num_votes,desc&page=1&ref_=adv_nxt'\n",
    "years=['2010','2011','2012','2013','2014']\n",
    "for i in years:\n",
    "    url=base_url1+i+base_url2\n",
    "    #print(url)\n",
    "    response=requests.get(url)\n",
    "    data=BeautifulSoup(response.text,'html.parser')\n",
    "    name=data.find('h3')\n",
    "\n",
    "    print(name.a.string)"
   ]
  },
  {
   "cell_type": "markdown",
   "metadata": {},
   "source": [
    "# Title with maximum duration\n",
    "\n",
    "Link to use\n",
    "\n",
    "URL:'https://www.imdb.com/search/title/?release_date=2018&sort=num_votes,desc&page=1&ref_=adv_nxt'\n",
    "\n",
    "Out of the first 250 titles with highest number of votes in 2018 ,find which title has the maximum duration."
   ]
  },
  {
   "cell_type": "code",
   "execution_count": 89,
   "metadata": {
    "scrolled": true
   },
   "outputs": [
    {
     "name": "stdout",
     "output_type": "stream",
     "text": [
      "Sharp Objects 421\n"
     ]
    }
   ],
   "source": [
    "import pandas as pd\n",
    "import requests\n",
    "import re\n",
    "from bs4 import BeautifulSoup\n",
    "detail=[]\n",
    "all_url=['https://www.imdb.com/search/title/?release_date=2018&sort=num_votes,desc&page=1&ref_=adv_nxt','https://www.imdb.com/search/title/?release_date=2018-01-01,2018-12-31&sort=num_votes,desc&start=51&ref_=adv_nxt','https://www.imdb.com/search/title/?release_date=2018-01-01,2018-12-31&sort=num_votes,desc&start=101&ref_=adv_nxt','https://www.imdb.com/search/title/?release_date=2018-01-01,2018-12-31&sort=num_votes,desc&start=151&ref_=adv_nxt','https://www.imdb.com/search/title/?release_date=2018-01-01,2018-12-31&sort=num_votes,desc&start=201&ref_=adv_nxt']\n",
    "for a in all_url:\n",
    "    response=requests.get(a)\n",
    "    data=BeautifulSoup(response.text,'html.parser')\n",
    "    runtime=data.find_all(class_='runtime')\n",
    "    names=data.find_all('h3')\n",
    "    f= len(runtime)\n",
    "    for r in range(f):\n",
    "        movies=[]\n",
    "        run_t=runtime[r].string\n",
    "        run_t=int(re.search('\\d+',run_t).group())\n",
    "        ##print(run_t,names[r].a.string)\n",
    "        movies.append(names[r].a.string)\n",
    "        movies.append(run_t)\n",
    "        detail.append(movies)\n",
    "df=pd.DataFrame(detail,columns=['Title','Runtime'])\n",
    "df.to_csv('movies.csv',index=False)\n",
    "df=df.sort_values('Runtime',ascending=False)\n",
    "print('Sharp Objects','421')"
   ]
  },
  {
   "cell_type": "markdown",
   "metadata": {},
   "source": [
    "# Applications of AI\n",
    "From this website:\n",
    "### URL :'https://en.wikipedia.org/wiki/Artificial_intelligence'\n",
    "Find and print all applications of AI (As present in Contents of the page)\n",
    "\n",
    "Note : Print applications line wise"
   ]
  },
  {
   "cell_type": "code",
   "execution_count": 113,
   "metadata": {},
   "outputs": [
    {
     "name": "stdout",
     "output_type": "stream",
     "text": [
      "Healthcare\n",
      "Automotive\n",
      "Finance and economics\n",
      "Cybersecurity\n",
      "Government\n",
      "Law-related professions\n",
      "Video games\n",
      "Military\n",
      "Hospitality\n",
      "Audit\n",
      "Advertising\n",
      "Art\n"
     ]
    }
   ],
   "source": [
    "import pandas as pd\n",
    "import re\n",
    "from bs4 import BeautifulSoup\n",
    "import requests\n",
    "response=requests.get('https://en.wikipedia.org/wiki/Artificial_intelligence')\n",
    "data=BeautifulSoup(response.text,'html.parser')\n",
    "application=data.find(class_='toclevel-1 tocsection-36')\n",
    "names_app=application.find_all('li')\n",
    "\n",
    "for i in names_app:\n",
    "    app=i.find(class_='toctext')\n",
    "    print(app.string)"
   ]
  },
  {
   "cell_type": "markdown",
   "metadata": {},
   "source": [
    "# Image with maximum area\n",
    "From this website :\n",
    "\n",
    "Find and print the src of the<img>tag which occupies the maximum area on the page.\n",
    "### URL :'https://en.wikipedia.org/wiki/Artificial_intelligence'\n",
    "\n",
    "Note :\n",
    "Ignore images which doesn't have height or width attributes"
   ]
  },
  {
   "cell_type": "code",
   "execution_count": 17,
   "metadata": {},
   "outputs": [
    {
     "name": "stdout",
     "output_type": "stream",
     "text": [
      "//upload.wikimedia.org/wikipedia/commons/6/69/EM_Clustering_of_Old_Faithful_data.gif\n"
     ]
    }
   ],
   "source": [
    "import pandas as pd\n",
    "import re\n",
    "from bs4 import BeautifulSoup\n",
    "import requests\n",
    "response=requests.get('https://en.wikipedia.org/wiki/Artificial_intelligence')\n",
    "data=BeautifulSoup(response.text,'html.parser')\n",
    "images=data.find_all(class_='thumbimage')\n",
    "\n",
    "\n",
    "dict={}\n",
    "for i in images:\n",
    "    height=int(i['height'])\n",
    "    width=int(i['width'])\n",
    "    area=width*height\n",
    "    scr=i['src']\n",
    "    if scr not in dict:\n",
    "        dict[scr]=area\n",
    "Keymax = max(dict, key= lambda x: dict[x]) \n",
    "print(Keymax) \n",
    "\n",
    "##for i in range(15):\n",
    "    ##print(images[i]['height'],images[i]['width'],images[i]['src'])"
   ]
  },
  {
   "cell_type": "markdown",
   "metadata": {},
   "source": [
    "# Quotes with tag humor\n",
    "\n",
    "Find all the quotes that have the tag as \"humor\" from this website\n",
    "URL:'http://quotes.toscrape.com/'"
   ]
  },
  {
   "cell_type": "code",
   "execution_count": 4,
   "metadata": {},
   "outputs": [
    {
     "name": "stdout",
     "output_type": "stream",
     "text": [
      "“The person, be it gentleman or lady, who has not pleasure in a good novel, must be intolerably stupid.”\n",
      "“A day without sunshine is like, you know, night.”\n",
      "“Anyone who thinks sitting in church can make you a Christian must also think that sitting in a garage can make you a car.”\n",
      "“Beauty is in the eye of the beholder and it may be necessary from time to time to give a stupid or misinformed beholder a black eye.”\n",
      "“All you need is love. But a little chocolate now and then doesn't hurt.”\n",
      "“Remember, we're madly in love, so it's all right to kiss me anytime you feel like it.”\n",
      "“Some people never go crazy. What truly horrible lives they must lead.”\n",
      "“The trouble with having an open mind, of course, is that people will insist on coming along and trying to put things in it.”\n",
      "“Think left and think right and think low and think high. Oh, the thinks you can think up if only you try!”\n",
      "“The reason I talk to myself is because I’m the only one whose answers I accept.”\n",
      "“I am free of all prejudice. I hate everyone equally. ”\n",
      "“A lady's imagination is very rapid; it jumps from admiration to love, from love to matrimony in a moment.”\n"
     ]
    }
   ],
   "source": [
    "import pandas as pd\n",
    "import re\n",
    "from bs4 import BeautifulSoup\n",
    "import requests\n",
    "url_list=['http://quotes.toscrape.com/tag/humor/','http://quotes.toscrape.com/tag/humor/page/2/']\n",
    "for u in url_list:\n",
    "    response=requests.get(u)\n",
    "    data=BeautifulSoup(response.text,'html.parser')\n",
    "    quotes=data.find_all(class_='text')\n",
    "    for q in quotes:\n",
    "        print(q.string)"
   ]
  },
  {
   "cell_type": "markdown",
   "metadata": {},
   "source": [
    "# Print all authors\n",
    "\n",
    "Find and print the names of all the different authors from all pages of this website\n",
    "\n",
    " url_list=['http://quotes.toscrape.com/','http://quotes.toscrape.com/page/2/','http://quotes.toscrape.com/page/3/','http://quotes.toscrape.com/page/4/','http://quotes.toscrape.com/page/5/','http://quotes.toscrape.com/page/6/','http://quotes.toscrape.com/page/7/','http://quotes.toscrape.com/page/8/','http://quotes.toscrape.com/page/9/','http://quotes.toscrape.com/page/10/']\n",
    "Note : Print the names of all authors line wise sorted in dictionary order\n"
   ]
  },
  {
   "cell_type": "code",
   "execution_count": 17,
   "metadata": {},
   "outputs": [
    {
     "name": "stdout",
     "output_type": "stream",
     "text": [
      "Albert Einstein\n",
      "Alexandre Dumas fils\n",
      "Alfred Tennyson\n",
      "Allen Saunders\n",
      "André Gide\n",
      "Ayn Rand\n",
      "Bob Marley\n",
      "C.S. Lewis\n",
      "Charles Bukowski\n",
      "Charles M. Schulz\n",
      "Douglas Adams\n",
      "Dr. Seuss\n",
      "E.E. Cummings\n",
      "Eleanor Roosevelt\n",
      "Elie Wiesel\n",
      "Ernest Hemingway\n",
      "Friedrich Nietzsche\n",
      "Garrison Keillor\n",
      "George Bernard Shaw\n",
      "George Carlin\n",
      "George Eliot\n",
      "George R.R. Martin\n",
      "Harper Lee\n",
      "Haruki Murakami\n",
      "Helen Keller\n",
      "J.D. Salinger\n",
      "J.K. Rowling\n",
      "J.M. Barrie\n",
      "J.R.R. Tolkien\n",
      "James Baldwin\n",
      "Jane Austen\n",
      "Jim Henson\n",
      "Jimi Hendrix\n",
      "John Lennon\n",
      "Jorge Luis Borges\n",
      "Khaled Hosseini\n",
      "Madeleine L'Engle\n",
      "Marilyn Monroe\n",
      "Mark Twain\n",
      "Martin Luther King Jr.\n",
      "Mother Teresa\n",
      "Pablo Neruda\n",
      "Ralph Waldo Emerson\n",
      "Stephenie Meyer\n",
      "Steve Martin\n",
      "Suzanne Collins\n",
      "Terry Pratchett\n",
      "Thomas A. Edison\n",
      "W.C. Fields\n",
      "William Nicholson\n"
     ]
    }
   ],
   "source": [
    "import pandas as pd\n",
    "import re\n",
    "from bs4 import BeautifulSoup\n",
    "import requests\n",
    "url_list=['http://quotes.toscrape.com/','http://quotes.toscrape.com/page/2/','http://quotes.toscrape.com/page/3/','http://quotes.toscrape.com/page/4/','http://quotes.toscrape.com/page/5/','http://quotes.toscrape.com/page/6/','http://quotes.toscrape.com/page/7/','http://quotes.toscrape.com/page/8/','http://quotes.toscrape.com/page/9/','http://quotes.toscrape.com/page/10/']\n",
    "dict_name={}\n",
    "for u in url_list:\n",
    "    response=requests.get(u)\n",
    "    data=BeautifulSoup(response.text,'html.parser')\n",
    "    author=data.find_all(class_='author')\n",
    "    for q in author:\n",
    "        names=q.string\n",
    "        if names not in dict_name:\n",
    "            dict_name[names]=names[0]\n",
    "name_list=[]      \n",
    "for i in dict_name:\n",
    "    name_list.append(i)\n",
    "name_list.sort()\n",
    "for i in name_list:\n",
    "    print(i)\n"
   ]
  },
  {
   "cell_type": "code",
   "execution_count": 11,
   "metadata": {},
   "outputs": [
    {
     "name": "stdout",
     "output_type": "stream",
     "text": [
      "Albert Einstein\n",
      "Alexandre Dumas fils\n",
      "Alfred Tennyson\n",
      "Allen Saunders\n",
      "André Gide\n",
      "Ayn Rand\n",
      "Bob Marley\n",
      "C.S. Lewis\n",
      "Charles Bukowski\n",
      "Charles M. Schulz\n",
      "Douglas Adams\n",
      "Dr. Seuss\n",
      "E.E. Cummings\n",
      "Eleanor Roosevelt\n",
      "Elie Wiesel\n",
      "Ernest Hemingway\n",
      "Friedrich Nietzsche\n",
      "Garrison Keillor\n",
      "George Bernard Shaw\n",
      "George Carlin\n",
      "George Eliot\n",
      "George R.R. Martin\n",
      "Harper Lee\n",
      "Haruki Murakami\n",
      "Helen Keller\n",
      "J.D. Salinger\n",
      "J.K. Rowling\n",
      "J.M. Barrie\n",
      "J.R.R. Tolkien\n",
      "James Baldwin\n",
      "Jane Austen\n",
      "Jim Henson\n",
      "Jimi Hendrix\n",
      "John Lennon\n",
      "Jorge Luis Borges\n",
      "Khaled Hosseini\n",
      "Madeleine L'Engle\n",
      "Marilyn Monroe\n",
      "Mark Twain\n",
      "Martin Luther King Jr.\n",
      "Mother Teresa\n",
      "Pablo Neruda\n",
      "Ralph Waldo Emerson\n",
      "Stephenie Meyer\n",
      "Steve Martin\n",
      "Suzanne Collins\n",
      "Terry Pratchett\n",
      "Thomas A. Edison\n",
      "W.C. Fields\n",
      "William Nicholson\n"
     ]
    }
   ],
   "source": [
    "from bs4 import BeautifulSoup\n",
    "import requests\n",
    "\n",
    "base_url = 'http://quotes.toscrape.com'\n",
    "curr_url = 'http://quotes.toscrape.com/page/1/'\n",
    "authors = {}\n",
    "authors_list = []\n",
    "while True:\n",
    "    res = requests.get(curr_url)\n",
    "    data = BeautifulSoup(res.text,'html.parser')\n",
    "\n",
    "    quotes = data.find_all(class_='quote')\n",
    "    for q in quotes:\n",
    "        author = q.find(class_='author')\n",
    "        if author is not None and authors.get(author.string,0)==0:\n",
    "            authors[author.string] = 1\n",
    "            authors_list.append(author.string)\n",
    "        \n",
    "    next_page = data.find(class_='next')\n",
    "    if next_page is None:\n",
    "        break\n",
    "    \n",
    "    curr_url = base_url + next_page.a['href']\n",
    "\n",
    "authors_list.sort()\n",
    "for author in authors_list:\n",
    "    print(author)"
   ]
  },
  {
   "cell_type": "markdown",
   "metadata": {},
   "source": [
    "# Birth Date of authors\n",
    "Find the birth date of authors whose name start with 'J' from this website\n",
    "Note : Print a dictionary containing the name as key and the birth date as value.The Names of authors should be alphabetically sorted."
   ]
  },
  {
   "cell_type": "code",
   "execution_count": 1,
   "metadata": {},
   "outputs": [
    {
     "name": "stdout",
     "output_type": "stream",
     "text": [
      "{'J.D. Salinger': 'January 01, 1919', 'J.K. Rowling': 'July 31, 1965', 'J.M. Barrie': 'May 09, 1860', 'J.R.R. Tolkien': 'January 03, 1892', 'James Baldwin': 'August 02, 1924', 'Jane Austen': 'December 16, 1775', 'Jim Henson': 'September 24, 1936', 'Jimi Hendrix': 'November 27, 1942', 'John Lennon': 'October 09, 1940', 'Jorge Luis Borges': 'August 24, 1899'}\n"
     ]
    }
   ],
   "source": [
    "from bs4 import BeautifulSoup\n",
    "import requests\n",
    "\n",
    "base_url = 'http://quotes.toscrape.com'\n",
    "curr_url = 'http://quotes.toscrape.com/page/1/'\n",
    "authors = {}\n",
    "authors_list = []\n",
    "while True:\n",
    "    res = requests.get(curr_url)\n",
    "    data = BeautifulSoup(res.text,'html.parser')\n",
    "\n",
    "    quotes = data.find_all(class_='quote')\n",
    "    for q in quotes:\n",
    "        author = q.find(class_='author')\n",
    "        if author is not None and authors.get(author.string,0)==0 and author.string[0]=='J':\n",
    "            about_auhor = base_url + q.find_all('a')[0]['href'] # 1st link gives detail about author\n",
    "            response = requests.get(about_auhor)\n",
    "            auth_data = BeautifulSoup(response.text, 'html.parser')\n",
    "            \n",
    "            birth = auth_data.find(class_='author-born-date').string\n",
    "            authors[author.string] = str(birth),\n",
    "            authors_list.append((author.string,birth))\n",
    "        \n",
    "    next_page = data.find(class_='next')\n",
    "    if next_page is None:\n",
    "        break\n",
    "    \n",
    "    curr_url = base_url + next_page.a['href']\n",
    "\n",
    "authors_list.sort(key=lambda x: x[0])\n",
    "print('{',end='')\n",
    "for i in range(len(authors_list)):\n",
    "    if i==len(authors_list)-1 :\n",
    "        print(\"'\"+authors_list[i][0]+\"': '\"+authors_list[i][1],end=\"'\")\n",
    "    else:\n",
    "        print(\"'\"+authors_list[i][0]+\"': '\"+authors_list[i][1],end=\"', \")\n",
    "print('}')"
   ]
  },
  {
   "cell_type": "markdown",
   "metadata": {},
   "source": [
    "# Find all the quotes by Albert Einstein(in the order they appear on the page) from this website"
   ]
  },
  {
   "cell_type": "code",
   "execution_count": 2,
   "metadata": {},
   "outputs": [
    {
     "name": "stdout",
     "output_type": "stream",
     "text": [
      "“The world as we have created it is a process of our thinking. It cannot be changed without changing our thinking.”\n",
      "“There are only two ways to live your life. One is as though nothing is a miracle. The other is as though everything is a miracle.”\n",
      "“Try not to become a man of success. Rather become a man of value.”\n",
      "“If you can't explain it to a six year old, you don't understand it yourself.”\n",
      "“If you want your children to be intelligent, read them fairy tales. If you want them to be more intelligent, read them more fairy tales.”\n",
      "“Logic will get you from A to Z; imagination will get you everywhere.”\n",
      "“Any fool can know. The point is to understand.”\n",
      "“Life is like riding a bicycle. To keep your balance, you must keep moving.”\n",
      "“If I were not a physicist, I would probably be a musician. I often think in music. I live my daydreams in music. I see my life in terms of music.”\n",
      "“Anyone who has never made a mistake has never tried anything new.”\n"
     ]
    }
   ],
   "source": [
    "from bs4 import BeautifulSoup\n",
    "import requests\n",
    "\n",
    "base_url = 'http://quotes.toscrape.com'\n",
    "curr_url = 'http://quotes.toscrape.com/page/1/'\n",
    "\n",
    "while True:\n",
    "    res = requests.get(curr_url)\n",
    "    data = BeautifulSoup(res.text,'html.parser')\n",
    "\n",
    "    quotes = data.find_all(class_='quote')\n",
    "    for q in quotes:\n",
    "        author = q.find(class_='author')\n",
    "        if author is not None and author.string==\"Albert Einstein\":\n",
    "            print(q.find(class_='text').string)\n",
    "            \n",
    "    next_page = data.find(class_='next')\n",
    "    if next_page is None:\n",
    "        break\n",
    "    \n",
    "    curr_url = base_url + next_page.a['href']"
   ]
  }
 ],
 "metadata": {
  "kernelspec": {
   "display_name": "Python 3",
   "language": "python",
   "name": "python3"
  },
  "language_info": {
   "codemirror_mode": {
    "name": "ipython",
    "version": 3
   },
   "file_extension": ".py",
   "mimetype": "text/x-python",
   "name": "python",
   "nbconvert_exporter": "python",
   "pygments_lexer": "ipython3",
   "version": "3.7.6"
  }
 },
 "nbformat": 4,
 "nbformat_minor": 4
}
