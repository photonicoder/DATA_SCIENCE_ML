{
 "cells": [
  {
   "cell_type": "markdown",
   "metadata": {},
   "source": [
    "# Project Details"
   ]
  },
  {
   "cell_type": "markdown",
   "metadata": {},
   "source": [
    "# For this project, we are using the Zomato API.\n",
    "# Zomato APIs gives you access to the freshest and most exhaustive information for over 1.5 million restaurants across 10,000 cities globally."
   ]
  },
  {
   "cell_type": "markdown",
   "metadata": {},
   "source": [
    "# Our Motivation for using Zomato API\n",
    "By Collecting the data using Zomato API one can recommend restaurants on the basis of user’s affinity to specific cuisines, establishment types, locations, and price bands.\n",
    "We can find out whether restaurant support online reservation or not.\n",
    "We can find what is the most popular and/ or exclusive/new at a given location & time.\n",
    "# Note : In Place of key i used, replace it with Api key we get from Zomato Api"
   ]
  },
  {
   "cell_type": "markdown",
   "metadata": {},
   "source": [
    "# Zomato cuisine problem details"
   ]
  },
  {
   "cell_type": "markdown",
   "metadata": {},
   "source": [
    "# Mexican cuisine began about 9,000 years ago, when agricultural communities such as the Maya formed, domesticating maize, creating the standard process of corn nixtamalization, and establishing their foodways.\n",
    "You are a huge fan of ‘Mexican’ cuisine. Now using the Zomato API you want to analyse the best restaurant serving the Mexican Cuisine, their locations, and cost for two, etc.\n",
    "There is a list of questions related to Mexican cuisines given in the next section."
   ]
  },
  {
   "cell_type": "code",
   "execution_count": 3,
   "metadata": {},
   "outputs": [],
   "source": [
    "import json\n",
    "import requests"
   ]
  },
  {
   "cell_type": "markdown",
   "metadata": {},
   "source": [
    "# Zomato Cuisine 1.1\n",
    "Fetch the cuisine_id of ‘Mexican’ cuisine using Zomato API.\n",
    "Print the cuisine_id."
   ]
  },
  {
   "cell_type": "code",
   "execution_count": 23,
   "metadata": {},
   "outputs": [
    {
     "name": "stdout",
     "output_type": "stream",
     "text": [
      "73\n"
     ]
    }
   ],
   "source": [
    "header={'Accept': 'application/json', 'user-key': 'key'}\n",
    "param={'city_id':'1'}\n",
    "response=requests.get('https://developers.zomato.com/api/v2.1/cuisines',params=param,headers=header)\n",
    "data=response.json()\n",
    "for i in data['cuisines']:\n",
    "    if i['cuisine']['cuisine_name']=='Mexican':\n",
    "        print(i['cuisine']['cuisine_id'])"
   ]
  },
  {
   "cell_type": "markdown",
   "metadata": {},
   "source": [
    "# Zomato Cuisine 1.3\n",
    "Fetch the entityid and entitytype of place Connaught Place.\n",
    "Print the entityid and entitytype,\n"
   ]
  },
  {
   "cell_type": "code",
   "execution_count": 5,
   "metadata": {},
   "outputs": [
    {
     "name": "stdout",
     "output_type": "stream",
     "text": [
      "104 subzone\n"
     ]
    }
   ],
   "source": [
    "header={'Accept': 'application/json', 'user-key': 'key'}\n",
    "param={'query':'Connaught Place'}\n",
    "response=requests.get('https://developers.zomato.com/api/v2.1/locations',params=param,headers=header)\n",
    "data=response.json()\n",
    "for i in data['location_suggestions']:\n",
    "    print(i['entity_id'],i['entity_type'])"
   ]
  },
  {
   "cell_type": "markdown",
   "metadata": {},
   "source": [
    "# Zomato Cuisine 1.4\n",
    "Fetch the top 10 best-rated restaurant serving ‘Mexican’ cuisine present in Connaught Place.\n",
    "Print the restaurant name, user rating and restaurant id."
   ]
  },
  {
   "cell_type": "code",
   "execution_count": 6,
   "metadata": {},
   "outputs": [
    {
     "name": "stdout",
     "output_type": "stream",
     "text": [
      "Farzi Cafe 4.5 18233593\n",
      "Chili's Grill & Bar 4.5 18537536\n",
      "Ministry Of Beer 4.4 18418277\n",
      "Xero Degrees 4.3 18729557\n",
      "Unplugged Courtyard 4.2 18216901\n",
      "Pebble Street 4.2 309859\n",
      "Chaayos - Meri Wali Chai 4.2 18237315\n",
      "The Beer Cafe - BIGGIE 4.2 307060\n",
      "Rodeo Cantina & Kitchen 4.1 18673403\n",
      "38 Barracks 4.1 18241537\n"
     ]
    }
   ],
   "source": [
    "header={'Accept': 'application/json', 'user-key': 'key'}\n",
    "param={'entity_id':'104','entity_type':'subzone','cuisines':'73','count':'10','sort':'rating'}\n",
    "response=requests.get('https://developers.zomato.com/api/v2.1/search',params=param,headers=header)\n",
    "data=response.json()\n",
    "for i in data['restaurants']:\n",
    "    print(i['restaurant']['name'], float(i['restaurant']['user_rating']['aggregate_rating']), i['restaurant']['R']['res_id'])\n",
    "    "
   ]
  },
  {
   "cell_type": "markdown",
   "metadata": {},
   "source": [
    "# Zomato Cuisine 1.5\n",
    "Fetch the category id of category type ‘Cafes’ using Zomato API.\n",
    "Print the category_id.\n",
    "Output Format:\n",
    "category_id"
   ]
  },
  {
   "cell_type": "code",
   "execution_count": 7,
   "metadata": {},
   "outputs": [
    {
     "name": "stdout",
     "output_type": "stream",
     "text": [
      "6\n"
     ]
    }
   ],
   "source": [
    "header={'Accept': 'application/json', 'user-key': 'key'}\n",
    "param={'entity_id':'104','entity_type':'subzone','cuisines':'73','count':'10','sort':'rating'}\n",
    "response=requests.get('https://developers.zomato.com/api/v2.1/categories',params=param,headers=header)\n",
    "data=response.json()\n",
    "for i in data['categories']:\n",
    "    if i['categories']['name']=='Cafes':\n",
    "        print(i['categories']['id'])"
   ]
  },
  {
   "cell_type": "markdown",
   "metadata": {},
   "source": [
    "# Zomato Cuisine 1.6\n",
    "Fetch the best-rated restaurant for ‘Mexican’ cuisine with category type ‘ Cafes’ present in Connaught Place using Zomato API.\n",
    "Print the restaurant name, user rating and restaurant id."
   ]
  },
  {
   "cell_type": "code",
   "execution_count": 8,
   "metadata": {},
   "outputs": [
    {
     "name": "stdout",
     "output_type": "stream",
     "text": [
      "Xero Degrees 4.3 18729557\n",
      "Chaayos - Meri Wali Chai 4.2 18237315\n",
      "The Art House Bar n Cafe 4.0 18863766\n",
      "Cafe Coffee Day - The Square 3.5 303034\n"
     ]
    }
   ],
   "source": [
    "header={'Accept': 'application/json', 'user-key': 'key'}\n",
    "param={'entity_id':'104','entity_type':'subzone','cuisines':'73','category':'6','query':'Connaught Place','count':'10','sort':'rating'}\n",
    "response=requests.get('https://developers.zomato.com/api/v2.1/search',params=param,headers=header)\n",
    "data=response.json()\n",
    "for i in data['restaurants']:\n",
    "    print(i['restaurant']['name'], float(i['restaurant']['user_rating']['aggregate_rating']), i['restaurant']['R']['res_id'])\n"
   ]
  },
  {
   "cell_type": "markdown",
   "metadata": {},
   "source": [
    "# Zomato Cuisine 1.7\n",
    "\n",
    "Fetch the latest review of the best-rated restaurant for ‘Mexican’ cuisine with Category type ‘Cafes’ present in Connaught Place using Zomato API.\n",
    "Print the name of user ,user rating and review text.\n",
    "Note :\n",
    "Due to limitation of basic API plan it, can only fetch 5 latest review"
   ]
  },
  {
   "cell_type": "code",
   "execution_count": 24,
   "metadata": {},
   "outputs": [
    {
     "name": "stdout",
     "output_type": "stream",
     "text": [
      "Harpriya Singh 4 It's an amazing place to chill out with your friends. The sitting space is less. Orders may take a little time but the food is worth the wait. There food is amazingly good. It's worth the money.\n",
      "Swarnica Pushkari 4 Had an amazing experience and would like to make a visit again. 1* is deducted as i had to wait lil long to get a seat.\n",
      "Megha 5 Superb place to hang out and chill with your friends.  Food is super delicious.  Peri peri fries are to die for ❤️\n",
      "Prakriti Guglani 3 It's a cute place, hidden between the lanes of Connaught Place. It's budget friendly. It's a small place so you need to wait there sometimes. Overall, nice and a decent place. Doesn't bore a hole in your pockets. The food is decent too. Try shakes and fries for sure. Would rate everything 3.75/5.\n",
      "Dr.Manisha Pandey 4 Take away this pasta and bubble gum shake , initially I was planned to sit and eat but small outlet with not good condition,but I like the staff behavior,and must say food was nice and yes and won't charge my service tax.\n"
     ]
    }
   ],
   "source": [
    "header={'Accept': 'application/json', 'user-key': 'key'}\n",
    "param={'res_id':'18729557','count':'5'}\n",
    "response=requests.get('https://developers.zomato.com/api/v2.1/reviews',params=param,headers=header)\n",
    "data=response.json()\n",
    "for i in data['user_reviews']:\n",
    "    print(i['review']['user']['name'],i['review']['rating'],i['review']['review_text'])"
   ]
  },
  {
   "cell_type": "code",
   "execution_count": 10,
   "metadata": {},
   "outputs": [
    {
     "name": "stdout",
     "output_type": "stream",
     "text": [
      "Farzi Cafe 4.5 18233593\n",
      "Chili's Grill & Bar 4.5 18537536\n",
      "Ministry Of Beer 4.4 18418277\n",
      "Xero Degrees 4.3 18729557\n",
      "Unplugged Courtyard 4.2 18216901\n",
      "Pebble Street 4.2 309859\n",
      "Chaayos - Meri Wali Chai 4.2 18237315\n",
      "The Beer Cafe - BIGGIE 4.2 307060\n",
      "Rodeo Cantina & Kitchen 4.1 18673403\n",
      "38 Barracks 4.1 18241537\n"
     ]
    }
   ],
   "source": [
    "header={'Accept': 'application/json', 'user-key': 'key'}\n",
    "param={'entity_id':'104','entity_type':'subzone','cuisines':'73','count':'10','sort':'rating'}\n",
    "response=requests.get('https://developers.zomato.com/api/v2.1/search',params=param,headers=header)\n",
    "data=response.json()\n",
    "for i in data['restaurants']:\n",
    "    print(i['restaurant']['name'], float(i['restaurant']['user_rating']['aggregate_rating']), i['restaurant']['R']['res_id'])\n",
    "    "
   ]
  },
  {
   "cell_type": "markdown",
   "metadata": {},
   "source": [
    "# Zomato restaurant Problem Detail\n",
    "Problem 2\n",
    "\"Pa Pa Ya\" is a modern Asian bistro & tapas bar from the House of Massive Restaurants and best described as a chic, modern and radical reinterpretation of Asian cuisine.\n",
    "You have heard from your friends that restaurant \"Pa Pa Ya\" in Delhi is quite good. So now you want to extract the information related to \"Pa Pa Ya\" using Zomato API.\n",
    "There is a list of questions related to the restaurant given in the next section."
   ]
  },
  {
   "cell_type": "markdown",
   "metadata": {},
   "source": [
    "# Zomato Restaurant 2.2\n",
    "Fetch the details of \"Pa Pa Ya\" restaurant using Zomato API.\n",
    "Print the user rating, the average cost for two, cuisines and address of \"Pa Pa Ya\" restaurant."
   ]
  },
  {
   "cell_type": "code",
   "execution_count": 12,
   "metadata": {
    "scrolled": true
   },
   "outputs": [
    {
     "name": "stdout",
     "output_type": "stream",
     "text": [
      "4.9\n",
      "2500\n",
      "Asian, Chinese, Thai, Japanese\n",
      "A-3, Select Citywalk, District Centre, Saket, New Delhi\n"
     ]
    }
   ],
   "source": [
    "header={'Accept': 'application/json', 'user-key': 'key'}\n",
    "parm={'res_id':'18429148'}\n",
    "response=requests.get('https://developers.zomato.com/api/v2.1/restaurant',params=parm,headers=header)\n",
    "data=response.json()\n",
    "print(data['user_rating']['aggregate_rating'])\n",
    "print(data['average_cost_for_two'])\n",
    "print(data['cuisines'])\n",
    "print(data['location']['address'])\n"
   ]
  },
  {
   "cell_type": "markdown",
   "metadata": {},
   "source": [
    "# Find out whether online table reservation is supported in \"Pa Pa Ya\" restaurant or not using Zomato API.\n",
    "Print 'yes' if online table reservation is supported else 'no'\n",
    "Note :\n",
    "In Zomato response JSON. 1=Yes and 0 = No"
   ]
  },
  {
   "cell_type": "code",
   "execution_count": 13,
   "metadata": {},
   "outputs": [
    {
     "name": "stdout",
     "output_type": "stream",
     "text": [
      "yes\n"
     ]
    }
   ],
   "source": [
    "if data['is_table_reservation_supported']:\n",
    "    print('yes')\n",
    "else:\n",
    "    print('no')"
   ]
  },
  {
   "cell_type": "markdown",
   "metadata": {},
   "source": [
    "# Zomato Restaurant 2.4\n",
    "\n",
    "Fetch the latest review of \"Pa Pa Ya\" restaurant using Zomato API.\n",
    "Print the name of the user, user rating and review text.\n",
    "Note :\n",
    "Due to the limitation of the basic API plan, it can only fetch 5 latest review"
   ]
  },
  {
   "cell_type": "code",
   "execution_count": 15,
   "metadata": {},
   "outputs": [
    {
     "name": "stdout",
     "output_type": "stream",
     "text": [
      "Shweta Kumar 4 \n",
      "Hungry Wolfs 5 This place serves amazing food the ambiance is super good you can go on dates chill out with friends and family kitty’s aswell\n",
      "Rushil Badhwar 4 \n",
      "Anushri Tripathi 5 \n",
      "TheProud_Glutton 5 The best place to try so many different types of dimsums😋\n"
     ]
    }
   ],
   "source": [
    "header={'Accept': 'application/json', 'user-key': 'key'}\n",
    "param={'res_id':'18429148','count':'5'}\n",
    "response=requests.get('https://developers.zomato.com/api/v2.1/reviews',params=param,headers=header)\n",
    "data=response.json()\n",
    "for i in data['user_reviews']:\n",
    "    print(i['review']['user']['name'],i['review']['rating'],i['review']['review_text'])"
   ]
  },
  {
   "cell_type": "markdown",
   "metadata": {},
   "source": [
    "# Zomato distance 3.1\n",
    "Fetch the cuisine_id of of cuisine ‘BBQ’ using Zomato API.\n",
    "Print the cuisine_id"
   ]
  },
  {
   "cell_type": "code",
   "execution_count": 18,
   "metadata": {},
   "outputs": [
    {
     "name": "stdout",
     "output_type": "stream",
     "text": [
      "193\n"
     ]
    }
   ],
   "source": [
    "header={'Accept': 'application/json', 'user-key': 'key'}\n",
    "param={'city_id':'1','lat':'28.697666','lon': '77.140626'}\n",
    "response=requests.get('https://developers.zomato.com/api/v2.1/cuisines',params=param,headers=header)\n",
    "data=response.json()\n",
    "for i in data['cuisines']:\n",
    "    if i['cuisine']['cuisine_name']=='BBQ':\n",
    "        print(i['cuisine']['cuisine_id'])"
   ]
  },
  {
   "cell_type": "markdown",
   "metadata": {},
   "source": [
    "# Zomato distance 3.2\n",
    "Fetch the list of the top 10 restaurants serving cuisine ‘BBQ’ which are nearest to Coding Ninjas.\n",
    "Print the restaurant name, user rating, restaurant id and locality in which restaurant is present."
   ]
  },
  {
   "cell_type": "code",
   "execution_count": 19,
   "metadata": {},
   "outputs": [
    {
     "name": "stdout",
     "output_type": "stream",
     "text": [
      "361 Restaurant & Banquet 3362 3.8 Pitampura\n",
      "Kanikas Kitchen 18540619 4.1 Pitampura\n",
      "The Paanwala 18683708 0 Pitampura\n",
      "Bharat Sweets 3333 3.5 Pitampura\n",
      "Mr. Momos 19341010 0 Pitampura\n",
      "Frontier 18888270 0 Pitampura\n",
      "Grub Garden 18980844 3.8 Pitampura\n",
      "Mega Bite 18366868 3.7 Pitampura\n",
      "Joint Fast Food Corner 19082219 0 Pitampura\n",
      "The Pizza Club 19342535 0 Pitampura\n"
     ]
    }
   ],
   "source": [
    "header={'Accept': 'application/json', 'user-key': 'key'}\n",
    "param={'lat':'28.697666','lon': '77.140626','radius':'4000', 'sort':'real_distance','count':'10'}\n",
    "response=requests.get('https://developers.zomato.com/api/v2.1/search',params=param,headers=header)\n",
    "data=response.json()\n",
    "data['restaurants']\n",
    "for i in data['restaurants']:\n",
    "    print(i['restaurant']['name'],i['restaurant']['R']['res_id'],i['restaurant']['user_rating']['aggregate_rating'],i['restaurant']['location']['locality'])"
   ]
  },
  {
   "cell_type": "markdown",
   "metadata": {},
   "source": [
    "# Zomato distance 3.3\n",
    "Fetch the latest review of the restaurant serving cuisine ‘BBQ’ which is most nearest to Coding ninjas?\n",
    "Print the name of user ,user rating and review text.\n",
    "Note :\n",
    "Due to limitation of basic API plan it, can only fetch 5 latest review"
   ]
  },
  {
   "cell_type": "code",
   "execution_count": 20,
   "metadata": {},
   "outputs": [
    {
     "name": "stdout",
     "output_type": "stream",
     "text": [
      "SDS 4 \n",
      "Abhishek Sharma 5 Their buffet is definitely better than barbeque nation.\n",
      "Sakshi Sabnani 4 We organized a get together here..ambiance and drinks was good but the food was not upto the mark but if you are going for dine out the food is good..maybe they weren't able to cater the party well.\n",
      "ANNANT VASHIST 5 I celebrated my bday in Themis barbecue . I enjoyed a lot and the staff was really good nd the food is very delicious .\n",
      "Sangeeta Kalita (thatcravingfoodie) 4 Visited them last month. On entering, you realise that the indoor seating area is not that spacious. I wanted to be seated outdoors, but then it's only allowed for dinner time. I wasn't very taken by the ambiance.  Coming to the food, I opted for the non-vegetarian buffet option. For drinks, I chose a litchi based mocktail. You could also go for beer or whisky which I think I should have chosen too, now that I think of it. But there's no use crying over spilled milk now. So coming back to my litchi mocktail, let me say it was awesome. Tart and sweet and zingy. Was a pleasant accompaniment to the starters. I really liked the chilly fish, chicken tikka, crispy corn. Cajun potatoes lacked that kick and mutton seekh was really dry. The paneer tikka too wasn't flavourful enough. And the pizza base was very tough.  The main course was so delicious. I am a manchow soup lover. And I helped myself to bowls of the veg manchow soup. Then I came across chicken hot and sour soup and gobbled that up too. I also tried different salads I think you could and should skip them. The chicken biryani and mutton rogan josh warmed up my soul with their distinctly spiced flavours. The biryani deserves special mention with the overwhelming aroma of whole spices and chunky chicken pieces. The rogan josh curry was hot and spicy and I was satisfied then and there. Nevertheless, greed occupied me again while going through other dishes and this time I helped myself to hakka chowmein and stir fried veggies in basil chilly sauce (yeah it's veg. Don't be surprised). The veggie gravy was utterly savoury and had so much going on. Sweet, sour, salty, that fresh basil hit. And by then I realised I was almost full and had to end my main course eating spree.  Coming to desserts, gulab jamuns were soul warming. The chocolate pastry was lush and bitter and kept me wanting more. The tarts were creamy and crumbley. Delicious. Moong dal halwa was all ghee and nuts and heavenly. And the strawberry ice cream was creamy and screamed fresh strawberries and not the artificial colour and flavour stuff.  Overall, it was a decent experience. Although I think cutting out the live music part during afternoons wouldn't be a bad idea afterall. It felt kinda loud and claustrophobic. The service was not bad. The prices were moderate. I paid 1300+ for two non-veg lunch buffets.\n"
     ]
    }
   ],
   "source": [
    "import json\n",
    "import requests\n",
    "header={'Accept': 'application/json', 'user-key': 'key'}\n",
    "param={'res_id':'18204820'}\n",
    "response=requests.get('https://developers.zomato.com/api/v2.1/reviews',params=param,headers=header)\n",
    "data=response.json()\n",
    "for i in data['user_reviews']:\n",
    "    print(i['review']['user']['name'],i['review']['rating'],i['review']['review_text'])"
   ]
  },
  {
   "cell_type": "markdown",
   "metadata": {},
   "source": [
    "# Zomato distance 3.4\n",
    "Experiment with the radius parameter that is present in ‘GET/search’. Fetch the list of top 10 best-restaurant present in a radius of 4 km of coding ninjas.\n",
    "Print the restaurant name, user rating, restaurant id and locality in which restaurant is present."
   ]
  },
  {
   "cell_type": "code",
   "execution_count": 22,
   "metadata": {},
   "outputs": [
    {
     "name": "stdout",
     "output_type": "stream",
     "text": [
      "Indian Accent 4.9 2004 The Lodhi, Lodhi Road\n",
      "Cafe Lota 4.9 305525 Pragati Maidan\n",
      "Pa Pa Ya 4.9 18429148 Select Citywalk Mall, Saket\n",
      "The Big Chill 4.9 1614 Khan Market\n",
      "Kuremal Mohan Lal Kulfi Wale 4.9 303642 Chawri Bazar\n",
      "Dum-Pukht - ITC Maurya 4.9 2744 ITC Maurya, Chanakyapuri\n",
      "The Big Chill 4.9 8244 Khan Market\n",
      "Wenger's 4.8 4249 Connaught Place\n",
      "Manhattan Bar & Brewery 4.8 303960 Global Foyer Mall, Golf Course Road\n",
      "Natural Ice Cream 4.8 310143 Connaught Place\n"
     ]
    }
   ],
   "source": [
    "import json\n",
    "import requests\n",
    "header={'Accept': 'application/json', 'user-key': 'key'}\n",
    "param={'lat':'28.697666','lon': '77.140626', 'sort':'rating','count':'10','radius':'4000'}\n",
    "response=requests.get('https://developers.zomato.com/api/v2.1/search',params=param,headers=header)\n",
    "data=response.json()\n",
    "data['restaurants']\n",
    "for i in data['restaurants']:\n",
    "    print(i['restaurant']['name'],i['restaurant']['user_rating']['aggregate_rating'],i['restaurant']['R']['res_id'],i['restaurant']['location']['locality'])"
   ]
  }
 ],
 "metadata": {
  "kernelspec": {
   "display_name": "Python 3",
   "language": "python",
   "name": "python3"
  },
  "language_info": {
   "codemirror_mode": {
    "name": "ipython",
    "version": 3
   },
   "file_extension": ".py",
   "mimetype": "text/x-python",
   "name": "python",
   "nbconvert_exporter": "python",
   "pygments_lexer": "ipython3",
   "version": "3.7.6"
  }
 },
 "nbformat": 4,
 "nbformat_minor": 4
}
