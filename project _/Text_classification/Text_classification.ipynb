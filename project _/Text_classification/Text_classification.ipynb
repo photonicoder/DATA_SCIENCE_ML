{
 "cells": [
  {
   "cell_type": "markdown",
   "metadata": {},
   "source": [
    "#### Import needed"
   ]
  },
  {
   "cell_type": "code",
   "execution_count": 1,
   "metadata": {},
   "outputs": [],
   "source": [
    "import numpy as np\n",
    "from sklearn.metrics import classification_report\n",
    "from sklearn.metrics import confusion_matrix\n",
    "from sklearn.datasets import fetch_20newsgroups\n",
    "from sklearn.naive_bayes import MultinomialNB\n",
    "from sklearn.model_selection import train_test_split\n",
    "import os,sys\n",
    "import re\n",
    "import matplotlib.pyplot as plt"
   ]
  },
  {
   "cell_type": "markdown",
   "metadata": {},
   "source": [
    "#### Adding  stop_word"
   ]
  },
  {
   "cell_type": "code",
   "execution_count": 2,
   "metadata": {},
   "outputs": [],
   "source": [
    "stop_words = [\n",
    "\"a\", \"about\", \"above\", \"across\", \"after\", \"afterwards\", \n",
    "\"again\", \"all\", \"almost\", \"alone\", \"along\", \"already\", \"also\",    \n",
    "\"although\", \"always\", \"am\", \"among\", \"amongst\", \"amoungst\", \"amount\", \"an\", \"and\", \"another\", \"any\", \"anyhow\", \"anyone\", \"anything\", \"anyway\", \"anywhere\", \"are\", \"as\", \"at\", \"be\", \"became\", \"because\", \"become\",\"becomes\", \"becoming\", \"been\", \"before\", \"behind\", \"being\", \"beside\", \"besides\", \"between\", \"beyond\", \"both\", \"but\", \"by\",\"can\", \"cannot\", \"cant\", \"could\", \"couldnt\", \"de\", \"describe\", \"do\", \"done\", \"each\", \"eg\", \"either\", \"else\", \"enough\", \"etc\", \"even\", \"ever\", \"every\", \"everyone\", \"everything\", \"everywhere\", \"except\", \"few\", \"find\",\"for\",\"found\", \"four\", \"from\", \"further\", \"get\", \"give\", \"go\", \"had\", \"has\", \"hasnt\", \"have\", \"he\", \"hence\", \"her\", \"here\", \"hereafter\", \"hereby\", \"herein\", \"hereupon\", \"hers\", \"herself\", \"him\", \"himself\", \"his\", \"how\", \"however\", \"i\", \"ie\", \"if\", \"in\", \"indeed\", \"is\", \"it\", \"its\", \"itself\", \"keep\", \"least\", \"less\", \"ltd\", \"made\", \"many\", \"may\", \"me\", \"meanwhile\", \"might\", \"mine\", \"more\", \"moreover\", \"most\", \"mostly\", \"much\", \"must\", \"my\", \"myself\", \"name\", \"namely\", \"neither\", \"never\", \"nevertheless\", \"next\",\"no\", \"nobody\", \"none\", \"noone\", \"nor\", \"not\", \"nothing\", \"now\", \"nowhere\", \"of\", \"off\", \"often\", \"on\", \"once\", \"one\", \"only\", \"onto\", \"or\", \"other\", \"others\", \"otherwise\", \"our\", \"ours\", \"ourselves\", \"out\", \"over\", \"own\", \"part\",\"perhaps\", \"please\", \"put\", \"rather\", \"re\", \"same\", \"see\", \"seem\", \"seemed\", \"seeming\", \"seems\", \"she\", \"should\",\"since\", \"sincere\",\"so\", \"some\", \"somehow\", \"someone\", \"something\", \"sometime\", \"sometimes\", \"somewhere\", \"still\", \"such\", \"take\",\"than\", \"that\", \"the\", \"their\", \"them\", \"themselves\", \"then\", \"thence\", \"there\", \"thereafter\", \"thereby\", \"therefore\", \"therein\", \"thereupon\", \"these\", \"they\",\n",
    "\"this\", \"those\", \"though\", \"through\", \"throughout\",\n",
    "\"thru\", \"thus\", \"to\", \"together\", \"too\", \"toward\", \"towards\",\n",
    "\"under\", \"until\", \"up\", \"upon\", \"us\",\n",
    "\"very\", \"was\", \"we\", \"well\", \"were\", \"what\", \"whatever\", \"when\",\n",
    "\"whence\", \"whenever\", \"where\", \"whereafter\", \"whereas\", \"whereby\",\n",
    "\"wherein\", \"whereupon\", \"wherever\", \"whether\", \"which\", \"while\", \n",
    "\"who\", \"whoever\", \"whom\", \"whose\", \"why\", \"will\", \"with\",\n",
    "\"within\", \"without\", \"would\", \"yet\", \"you\", \"your\", \"yours\", \"yourself\", \"yourselves\"\n",
    "]"
   ]
  },
  {
   "cell_type": "code",
   "execution_count": 3,
   "metadata": {},
   "outputs": [],
   "source": [
    "# X --> list of strings where each string contain one text document.\n",
    "# Y --> corresponding categories\n",
    "X  =[] \n",
    "Y = []\n",
    "for category in os.listdir(\"20_newsgroups1\"):\n",
    "    for document in os.listdir(\"20_newsgroups1/\"+category):\n",
    "        with open(\"20_newsgroups1/\"+category+'/'+document, \"r\") as f:\n",
    "            X.append(f.read())\n",
    "            Y.append(category)"
   ]
  },
  {
   "cell_type": "markdown",
   "metadata": {},
   "source": [
    "### Spliting in training and testing Data"
   ]
  },
  {
   "cell_type": "code",
   "execution_count": 4,
   "metadata": {},
   "outputs": [],
   "source": [
    "x_train,x_test,y_train,y_test = train_test_split(X,Y,random_state=0)"
   ]
  },
  {
   "cell_type": "markdown",
   "metadata": {},
   "source": [
    "## Build Vocab"
   ]
  },
  {
   "cell_type": "code",
   "execution_count": 5,
   "metadata": {},
   "outputs": [
    {
     "name": "stdout",
     "output_type": "stream",
     "text": [
      "93499\n"
     ]
    }
   ],
   "source": [
    "vocab={}\n",
    "'''\n",
    "    \\W -> Matches any non-alphanumeric character; this is equivalent to the class [^a-zA-Z0-9_].\n",
    "'''\n",
    "for doc in x_train:\n",
    "    doc=doc.lower()\n",
    "    stripped=re.split(r'\\W+',doc)\n",
    "    for word in stripped:\n",
    "        #we will not include stop_words, alpha-numerics, punctuations or irrelevant word of length less than 2 in our dictionary\n",
    "        if word.isalpha() and (word not in stop_words) and len(word)>2:\n",
    "            vocab[word] = vocab.get(word,0)+1\n",
    "print(len(vocab))"
   ]
  },
  {
   "cell_type": "markdown",
   "metadata": {},
   "source": [
    "### Sort in descending order"
   ]
  },
  {
   "cell_type": "code",
   "execution_count": 6,
   "metadata": {},
   "outputs": [],
   "source": [
    "vocab=sorted(vocab.items(), key=lambda x:x[1],reverse=True)"
   ]
  },
  {
   "cell_type": "code",
   "execution_count": 7,
   "metadata": {},
   "outputs": [],
   "source": [
    "# frequency of ith word in vocab\n",
    "frequency=[]\n",
    "word_num=[]\n",
    "i=0\n",
    "for w in vocab:\n",
    "    frequency.append(w[1])\n",
    "    word_num.append(i)\n",
    "    i+=1"
   ]
  },
  {
   "cell_type": "markdown",
   "metadata": {},
   "source": [
    "### plot graph between ith word and its frequency"
   ]
  },
  {
   "cell_type": "code",
   "execution_count": 8,
   "metadata": {},
   "outputs": [
    {
     "data": {
      "image/png": "[encoded data removed]",
      "text/plain": [
       "<Figure size 432x288 with 1 Axes>"
      ]
     },
     "metadata": {
      "needs_background": "light"
     },
     "output_type": "display_data"
    }
   ],
   "source": [
    "plt.plot(word_num, frequency)\n",
    "plt.grid()\n",
    "plt.axis([0,8000, 1, 5000])\n",
    "plt.show()"
   ]
  },
  {
   "cell_type": "code",
   "execution_count": 9,
   "metadata": {},
   "outputs": [
    {
     "name": "stdout",
     "output_type": "stream",
     "text": [
      "Highest frequency of a word in vacabulary is : 123562\n",
      "Lowest frequency of a word in vacabulary is : 1\n",
      "Length of vocab is: 93499\n"
     ]
    }
   ],
   "source": [
    "print(\"Highest frequency of a word in vacabulary is :\",vocab[0][1])\n",
    "print(\"Lowest frequency of a word in vacabulary is :\",vocab[len(vocab)-1][1])\n",
    "print(\"Length of vocab is:\",len(vocab))"
   ]
  },
  {
   "cell_type": "markdown",
   "metadata": {},
   "source": [
    " ### We consisder top 2000 words only bcz as we increase words, frequency decreases as we see in above plot. Even word at 2000 index having frequecy less than 500. So in training matrix which we create , column corresponding to this word will contain mostly zeros. So no need to add furher words bcz they will not affect the results."
   ]
  },
  {
   "cell_type": "code",
   "execution_count": 10,
   "metadata": {},
   "outputs": [],
   "source": [
    "ind=2000"
   ]
  },
  {
   "cell_type": "markdown",
   "metadata": {},
   "source": [
    "#### new vocab --> Consisder only top ind words"
   ]
  },
  {
   "cell_type": "code",
   "execution_count": 11,
   "metadata": {},
   "outputs": [],
   "source": [
    "'''\n",
    "    create dictionary bcz it will be easy to check word present or not. \n",
    "    If we use list, then everytime we need to traverse to find paticular word present in list or not\n",
    "''' \n",
    "Vocab = {}\n",
    "for i in range(ind):\n",
    "    w=vocab[i][0]\n",
    "    f=vocab[i][1]\n",
    "    Vocab[w]=f"
   ]
  },
  {
   "cell_type": "markdown",
   "metadata": {},
   "source": [
    "#### create features dictionary - we use words as features"
   ]
  },
  {
   "cell_type": "code",
   "execution_count": 12,
   "metadata": {},
   "outputs": [],
   "source": [
    "features = {}\n",
    "for i in range(ind):\n",
    "    w_i = vocab[i][0]\n",
    "    features[w_i] = i"
   ]
  },
  {
   "cell_type": "markdown",
   "metadata": {},
   "source": [
    "### Now we create X_train, Y_train, X_test and Y_test"
   ]
  },
  {
   "cell_type": "code",
   "execution_count": 13,
   "metadata": {},
   "outputs": [],
   "source": [
    "X_train = np.zeros((len(x_train),ind), dtype='uint8')\n",
    "Y_train = np.empty(len(y_train), dtype='<U30') # max size of string is 30\n",
    "\n",
    "X_test = np.zeros((len(x_test),ind), dtype='uint8')\n",
    "Y_test = np.empty(len(y_test), dtype='<U30') # max size of string is 30"
   ]
  },
  {
   "cell_type": "code",
   "execution_count": 14,
   "metadata": {},
   "outputs": [],
   "source": [
    "# X_train and X_test\n",
    "total_training_doc = len(x_train)\n",
    "for i in range(total_training_doc):\n",
    "    stripped_words = re.split(r'\\W+',x_train[i]) ## using regular expressions\n",
    "    for word in stripped_words:\n",
    "        # check if word is present in Vocab and word is also used as a feature\n",
    "        if Vocab.get(word.lower(), None) is not None and features.get(word.lower(),None) is not None:\n",
    "            col = features[word.lower()]\n",
    "            X_train[i][col] += 1 # Increase frequency corresponding to word in document i\n",
    "            \n",
    "    # store corresponding newsgroup (label)\n",
    "    Y_train[i] = y_train[i]"
   ]
  },
  {
   "cell_type": "code",
   "execution_count": 15,
   "metadata": {},
   "outputs": [],
   "source": [
    "# X_test and Y_test\n",
    "total_testing_doc = len(x_test)\n",
    "for i in range(total_testing_doc):\n",
    "    stripped_words = re.split(r'\\W+',x_test[i]) ## using regular expressions\n",
    "    for word in stripped_words:\n",
    "        # check if word is present in Vocab and word is also used as a feature\n",
    "        if Vocab.get(word.lower(), None) is not None and features.get(word.lower(),None) is not None:\n",
    "            col = features[word.lower()]\n",
    "            X_test[i][col] += 1 # Increase frequency corresponding to word in document i\n",
    "            \n",
    "    # store corresponding newsgroup (label)\n",
    "    Y_test[i] = y_test[i]"
   ]
  },
  {
   "cell_type": "markdown",
   "metadata": {},
   "source": [
    "# Functions used for creating our own Multinomial Naive Bayes"
   ]
  },
  {
   "cell_type": "code",
   "execution_count": 16,
   "metadata": {},
   "outputs": [],
   "source": [
    "# fit fnction returns a dictionary\n",
    "def fit(X_train, Y_train):\n",
    "    count = {}\n",
    "    vocab_size = 0  # total number of words present in Vocab\n",
    "    count[\"total_data\"] = len(Y_train) # total number of documents\n",
    "    class_values = set(Y_train)\n",
    "    for current_class in class_values:\n",
    "        count[current_class] = {}\n",
    "        current_class_rows = (Y_train == current_class)\n",
    "        \n",
    "        # Get X_train corresponding to current_class\n",
    "        X_train_current = X_train[current_class_rows]\n",
    "        Y_train_current = Y_train[current_class_rows]\n",
    "        \n",
    "        # total no. of documents of current_class\n",
    "        count[current_class][\"current_class_count\"] = len(Y_train_current)\n",
    "        \n",
    "        # Iterate over all words and store its frequency\n",
    "        num_features = X_train.shape[1]\n",
    "        total_current_class_words = 0\n",
    "        for j in range(1, num_features + 1):\n",
    "            # store frequency of j th word(feature) corresponding to current_class \n",
    "            count[current_class][j] = X_train_current[:, j-1].sum()\n",
    "            total_current_class_words += X_train_current[:, j-1].sum()\n",
    "            \n",
    "        # store total words of a current_class also\n",
    "        count[current_class][\"total_count\"] = total_current_class_words\n",
    "        vocab_size += total_current_class_words\n",
    "    count[\"vocab_size\"] = vocab_size\n",
    "    return count # returns dictionary created"
   ]
  },
  {
   "cell_type": "markdown",
   "metadata": {},
   "source": [
    "We need to calculate log( P(X=x | y=current_class) ) + log( P(y=current_class) )\n",
    "        \n",
    "Assuming independent events:\n",
    "P(X=x | y=current_class) = P(w1|y=current_class) * P(w2|y=current_class) *\n",
    "                                    P(w3|y=current_class) * ....\n",
    "        \n",
    "        \n",
    "Therefore, log( P(X=x | y=current_class) ) = log( P(w1|y=current_class) )\n",
    "                                                                +\n",
    "                                             log( P(w2|y=current_class) )\n",
    "                                                                +\n",
    "                                             log( P(w3|y=current_class) )\n",
    "                                                                +\n",
    "                                                                .\n",
    "                                                                .\n",
    "                                                                ."
   ]
  },
  {
   "cell_type": "code",
   "execution_count": 17,
   "metadata": {},
   "outputs": [],
   "source": [
    "def probability(dictionary, x, current_class):\n",
    "    #  log( P(y=current_class) )\n",
    "    output = np.log(dictionary[current_class]['current_class_count']) - np.log(dictionary[\"total_data\"]) \n",
    "    \n",
    "    num_features = len(dictionary[current_class].keys()) - 2  # -2 bcz 2 keys are total_count and current_class_count\n",
    "    for j in range(1,num_features+1):\n",
    "        xj = x[j-1]\n",
    "        if xj == 0: # word not in test data document\n",
    "            continue\n",
    "            \n",
    "        '''\n",
    "            word is present as a feature. So add its corresponding logarithmic probability\n",
    "            Also use laplace correction i.e\n",
    "            log( P(w1|y=current_class) ) = log( count of all w1 corresponding \n",
    "                                                to current_class + 1)\n",
    "                                                      -\n",
    "                                            log( count of all words of current_class\n",
    "                                                 + size of vocabulary)\n",
    "        '''  \n",
    "        count_jth_word_in_current_class = dictionary[current_class][j] + 1  # +1 bcz of laplace correction\n",
    "        count_current_class = dictionary[current_class][\"total_count\"] + dictionary[\"vocab_size\"]\n",
    "        count_xj_probability = np.log(count_jth_word_in_current_class) - np.log(count_current_class)\n",
    "        output = output + count_xj_probability\n",
    "    \n",
    "    return output"
   ]
  },
  {
   "cell_type": "code",
   "execution_count": 18,
   "metadata": {},
   "outputs": [],
   "source": [
    "def predictSinglePoint(dictionary, x):\n",
    "    classes = dictionary.keys()\n",
    "    best_p = -1000   # Initially\n",
    "    best_class = -1\n",
    "    first_run = True  # Bcz best_p should be changed for the first time\n",
    "    for current_class in classes:\n",
    "        if current_class == \"vocab_size\" or current_class==\"total_data\":\n",
    "            continue\n",
    "            \n",
    "        # Find logarithmic probability of current_class\n",
    "        p_current_class = probability(dictionary, x, current_class)\n",
    "        if (first_run or p_current_class > best_p):\n",
    "            best_p = p_current_class\n",
    "            best_class = current_class\n",
    "        first_run = False  # bcz we done for 1st time\n",
    "    return best_class"
   ]
  },
  {
   "cell_type": "code",
   "execution_count": 19,
   "metadata": {},
   "outputs": [],
   "source": [
    "def predict(dictionary, X_test):\n",
    "    y_pred = []\n",
    "    for x in X_test:\n",
    "        x_class = predictSinglePoint(dictionary, x)\n",
    "        y_pred.append(x_class)\n",
    "    return y_pred"
   ]
  },
  {
   "cell_type": "markdown",
   "metadata": {},
   "source": [
    "## Find predictions using our own Multinomial classifier"
   ]
  },
  {
   "cell_type": "code",
   "execution_count": 20,
   "metadata": {},
   "outputs": [],
   "source": [
    "dictionary = fit(X_train, Y_train)"
   ]
  },
  {
   "cell_type": "code",
   "execution_count": 21,
   "metadata": {},
   "outputs": [],
   "source": [
    "Y_pred = predict(dictionary, X_test)"
   ]
  },
  {
   "cell_type": "code",
   "execution_count": 22,
   "metadata": {},
   "outputs": [
    {
     "name": "stdout",
     "output_type": "stream",
     "text": [
      "[[176   0   0   0   0   1   0   0   0   0   0   0   0   0   0   0   0   1\n",
      "   10  45]\n",
      " [  0 184   2   7   0  34   0   0   0   0   0  17   0   0   1   0   0   0\n",
      "    8   0]\n",
      " [  0  23 113   9   0  75   0   0   0   0   0  18   0   0   1   0   1   0\n",
      "    9   0]\n",
      " [  0   8   1 204   3   8   2   0   0   0   0  10   0   0   0   0   0   0\n",
      "    4   0]\n",
      " [  0   6   1  42 152  15   2   0   0   0   0  10   1   0   0   0   1   1\n",
      "    5   0]\n",
      " [  0   8   4   3   0 218   1   0   0   0   0   4   0   0   0   0   0   0\n",
      "    2   0]\n",
      " [  0   1   1  18   0   1 180   3   0   0   0   6   7   0   2   0   1   0\n",
      "   41   0]\n",
      " [  0   1   0   0   0   1   5 190   0   0   1   2   3   1   1   0  25   2\n",
      "   37   0]\n",
      " [  4   1   0   0   0   0   1  11 166   0   0   8   0   1   0   0  24   2\n",
      "   66   0]\n",
      " [  0   0   0   0   0   0   0   0   0 190  26   0   0   0   1   0   1   1\n",
      "   29   0]\n",
      " [  0   0   0   0   0   0   0   0   0   0 221   0   0   0   0   0   1   0\n",
      "    9   0]\n",
      " [  0   1   0   0   0   0   0   0   0   0   0 229   0   0   0   0   0   0\n",
      "    3   0]\n",
      " [  0   6   0   3   0   0   0   0   0   1   0  55 137   2   7   0   2   2\n",
      "   28   1]\n",
      " [  0   4   0   0   0   1   0   0   0   0   0   9   0 172   2   0   1   3\n",
      "   59   5]\n",
      " [  0   1   0   0   0   0   0   0   0   0   0   6   0   0 205   0   2   1\n",
      "   31   0]\n",
      " [  0   0   0   0   0   0   0   0   0   0   0   0   0   0   0 251   0   0\n",
      "    1   0]\n",
      " [  0   0   0   0   0   0   0   0   0   0   0   2   0   0   0   0 156   2\n",
      "   86   3]\n",
      " [  0   0   0   0   0   0   0   0   0   0   0   0   0   0   0   0   0 265\n",
      "   16   0]\n",
      " [  0   0   0   0   0   0   0   0   0   0   0   1   0   0   0   0   7  14\n",
      "  232   5]\n",
      " [ 36   0   0   0   0   0   0   0   0   0   0   2   0   0   0   3   7   5\n",
      "   50 133]]\n"
     ]
    }
   ],
   "source": [
    "print(confusion_matrix(Y_test, Y_pred))"
   ]
  },
  {
   "cell_type": "code",
   "execution_count": 23,
   "metadata": {},
   "outputs": [
    {
     "name": "stdout",
     "output_type": "stream",
     "text": [
      "                          precision    recall  f1-score   support\n",
      "\n",
      "             alt.atheism       0.81      0.76      0.78       233\n",
      "           comp.graphics       0.75      0.73      0.74       253\n",
      " comp.os.ms-windows.misc       0.93      0.45      0.61       249\n",
      "comp.sys.ibm.pc.hardware       0.71      0.85      0.78       240\n",
      "   comp.sys.mac.hardware       0.98      0.64      0.78       236\n",
      "          comp.windows.x       0.62      0.91      0.73       240\n",
      "            misc.forsale       0.94      0.69      0.80       261\n",
      "               rec.autos       0.93      0.71      0.80       269\n",
      "         rec.motorcycles       1.00      0.58      0.74       284\n",
      "      rec.sport.baseball       0.99      0.77      0.87       248\n",
      "        rec.sport.hockey       0.89      0.96      0.92       231\n",
      "               sci.crypt       0.60      0.98      0.75       233\n",
      "         sci.electronics       0.93      0.56      0.70       244\n",
      "                 sci.med       0.98      0.67      0.80       256\n",
      "               sci.space       0.93      0.83      0.88       246\n",
      "  soc.religion.christian       0.99      1.00      0.99       252\n",
      "      talk.politics.guns       0.68      0.63      0.65       249\n",
      "   talk.politics.mideast       0.89      0.94      0.91       281\n",
      "      talk.politics.misc       0.32      0.90      0.47       259\n",
      "      talk.religion.misc       0.69      0.56      0.62       236\n",
      "\n",
      "                accuracy                           0.75      5000\n",
      "               macro avg       0.83      0.76      0.77      5000\n",
      "            weighted avg       0.83      0.75      0.77      5000\n",
      "\n"
     ]
    }
   ],
   "source": [
    "print(classification_report(Y_test, Y_pred))"
   ]
  },
  {
   "cell_type": "markdown",
   "metadata": {},
   "source": [
    "## Using inbuilt Multinomial Naive Bayes classifier"
   ]
  },
  {
   "cell_type": "code",
   "execution_count": 24,
   "metadata": {},
   "outputs": [],
   "source": [
    "clf = MultinomialNB()"
   ]
  },
  {
   "cell_type": "code",
   "execution_count": 25,
   "metadata": {},
   "outputs": [
    {
     "data": {
      "text/plain": [
       "MultinomialNB(alpha=1.0, class_prior=None, fit_prior=True)"
      ]
     },
     "execution_count": 25,
     "metadata": {},
     "output_type": "execute_result"
    }
   ],
   "source": [
    "clf.fit(X_train, Y_train)"
   ]
  },
  {
   "cell_type": "code",
   "execution_count": 26,
   "metadata": {},
   "outputs": [],
   "source": [
    "Y_pred = clf.predict(X_test)"
   ]
  },
  {
   "cell_type": "code",
   "execution_count": 27,
   "metadata": {},
   "outputs": [
    {
     "name": "stdout",
     "output_type": "stream",
     "text": [
      "[[195   0   0   0   0   0   0   4   1   0   0   0   0   1   0   1   0   0\n",
      "    0  31]\n",
      " [  0 199  16  21   3   8   2   2   0   1   0   0   0   1   0   0   0   0\n",
      "    0   0]\n",
      " [  0   6 210  13   4   9   3   1   0   0   0   0   2   1   0   0   0   0\n",
      "    0   0]\n",
      " [  0   1   3 196  32   0   5   0   1   0   0   0   2   0   0   0   0   0\n",
      "    0   0]\n",
      " [  0   2   1  23 204   0   5   0   0   0   0   0   1   0   0   0   0   0\n",
      "    0   0]\n",
      " [  0  15  30  13   5 165   3   0   2   1   0   1   2   1   2   0   0   0\n",
      "    0   0]\n",
      " [  0   0   1   7   3   0 236   5   1   0   1   0   5   0   1   0   1   0\n",
      "    0   0]\n",
      " [  0   0   0   1   1   0  11 247   3   1   1   0   4   0   0   0   0   0\n",
      "    0   0]\n",
      " [  0   0   0   0   0   0   2   4 277   1   0   0   0   0   0   0   0   0\n",
      "    0   0]\n",
      " [  0   0   0   0   0   0   2   4   2 227  12   0   0   0   1   0   0   0\n",
      "    0   0]\n",
      " [  0   0   0   0   0   0   0   0   2   7 221   0   0   0   1   0   0   0\n",
      "    0   0]\n",
      " [  0   3   0   0   0   2   1   0   0   0   0 224   2   1   0   0   0   0\n",
      "    0   0]\n",
      " [  0   2   0  10   3   0   2   7   2   1   0   0 214   2   1   0   0   0\n",
      "    0   0]\n",
      " [  0   3   0   2   6   1   1   3   9   3   0   1   3 219   4   0   0   1\n",
      "    0   0]\n",
      " [  0   1   0   1   0   0   1   2   2   2   1   0   4   3 227   0   1   0\n",
      "    1   0]\n",
      " [  0   0   0   0   0   0   0   0   0   0   0   0   0   0   0 252   0   0\n",
      "    0   0]\n",
      " [  0   0   0   1   0   0   0   0   3   0   0   3   0   0   0   0 224   0\n",
      "   13   5]\n",
      " [  0   0   0   1   1   0   3   3   1   2   1   0   0   1   1   0   6 238\n",
      "   21   2]\n",
      " [  0   0   0   0   0   0   1   0   0   1   0   4   0   3   2   2  33  15\n",
      "  177  21]\n",
      " [ 45   1   0   0   0   0   1   0   0   0   1   0   1   1   0  10  11   2\n",
      "   21 142]]\n"
     ]
    }
   ],
   "source": [
    "print(confusion_matrix(Y_test, Y_pred))"
   ]
  },
  {
   "cell_type": "code",
   "execution_count": 28,
   "metadata": {},
   "outputs": [
    {
     "name": "stdout",
     "output_type": "stream",
     "text": [
      "                          precision    recall  f1-score   support\n",
      "\n",
      "             alt.atheism       0.81      0.84      0.82       233\n",
      "           comp.graphics       0.85      0.79      0.82       253\n",
      " comp.os.ms-windows.misc       0.80      0.84      0.82       249\n",
      "comp.sys.ibm.pc.hardware       0.68      0.82      0.74       240\n",
      "   comp.sys.mac.hardware       0.78      0.86      0.82       236\n",
      "          comp.windows.x       0.89      0.69      0.78       240\n",
      "            misc.forsale       0.85      0.90      0.87       261\n",
      "               rec.autos       0.88      0.92      0.90       269\n",
      "         rec.motorcycles       0.91      0.98      0.94       284\n",
      "      rec.sport.baseball       0.92      0.92      0.92       248\n",
      "        rec.sport.hockey       0.93      0.96      0.94       231\n",
      "               sci.crypt       0.96      0.96      0.96       233\n",
      "         sci.electronics       0.89      0.88      0.88       244\n",
      "                 sci.med       0.94      0.86      0.89       256\n",
      "               sci.space       0.95      0.92      0.93       246\n",
      "  soc.religion.christian       0.95      1.00      0.97       252\n",
      "      talk.politics.guns       0.81      0.90      0.85       249\n",
      "   talk.politics.mideast       0.93      0.85      0.89       281\n",
      "      talk.politics.misc       0.76      0.68      0.72       259\n",
      "      talk.religion.misc       0.71      0.60      0.65       236\n",
      "\n",
      "                accuracy                           0.86      5000\n",
      "               macro avg       0.86      0.86      0.86      5000\n",
      "            weighted avg       0.86      0.86      0.86      5000\n",
      "\n"
     ]
    }
   ],
   "source": [
    "print(classification_report(Y_test, Y_pred))"
   ]
  },
  {
   "cell_type": "markdown",
   "metadata": {},
   "source": [
    "## Comparison between inbuilt and our own built classifier"
   ]
  },
  {
   "cell_type": "markdown",
   "metadata": {},
   "source": [
    "#### From above results we see that inbuilt Multinomial naive bayes has acuuracy of 86%. \n",
    "#### Where as accuracy achieved by using our own Multinomial classifier is 75%"
   ]
  }
 ],
 "metadata": {
  "kernelspec": {
   "display_name": "Python 3",
   "language": "python",
   "name": "python3"
  },
  "language_info": {
   "codemirror_mode": {
    "name": "ipython",
    "version": 3
   },
   "file_extension": ".py",
   "mimetype": "text/x-python",
   "name": "python",
   "nbconvert_exporter": "python",
   "pygments_lexer": "ipython3",
   "version": "3.7.6"
  }
 },
 "nbformat": 4,
 "nbformat_minor": 4
}
