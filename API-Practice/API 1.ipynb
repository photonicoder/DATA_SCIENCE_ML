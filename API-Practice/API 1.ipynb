{
 "cells": [
  {
   "cell_type": "markdown",
   "metadata": {},
   "source": [
    "## API_PRACTCISE"
   ]
  },
  {
   "cell_type": "markdown",
   "metadata": {},
   "source": [
    "## In This part we learn how to acees api using 'requests' request and how to pass parameter and how to make changes in  data using 'post' requests"
   ]
  },
  {
   "cell_type": "markdown",
   "metadata": {},
   "source": [
    "## Print all sub-breeds of hound by making a get request to given URL.\n",
    "URL : https://dog.ceo/api/breeds/list/all\n",
    "Print name of sub-breeds in different lines.\n"
   ]
  },
  {
   "cell_type": "code",
   "execution_count": 33,
   "metadata": {},
   "outputs": [
    {
     "name": "stdout",
     "output_type": "stream",
     "text": [
      "afghan\n",
      "basset\n",
      "blood\n",
      "english\n",
      "ibizan\n",
      "plott\n",
      "walker\n"
     ]
    }
   ],
   "source": [
    "import requests\n",
    "response=requests.get('https://dog.ceo/api/breeds/list/all')\n",
    "##print(response.text)\n",
    "python_data=response.json()\n",
    "##print(type(python_data))\n",
    "for i in python_data['message']['hound']:\n",
    "    print(i)"
   ]
  },
  {
   "cell_type": "markdown",
   "metadata": {},
   "source": [
    "##  Print the count of total sub-breeds of poodle from this URL : \n",
    "https://dog.ceo/api/breeds/list/all/."
   ]
  },
  {
   "cell_type": "code",
   "execution_count": 34,
   "metadata": {},
   "outputs": [
    {
     "name": "stdout",
     "output_type": "stream",
     "text": [
      "3\n"
     ]
    }
   ],
   "source": [
    "import requests\n",
    "response=requests.get('https://dog.ceo/api/breeds/list/all')\n",
    "##print(response.text)\n",
    "python_data=response.json()\n",
    "##print(type(python_data))\n",
    "x=python_data['message']['poodle']\n",
    "print(len(x))"
   ]
  },
  {
   "cell_type": "markdown",
   "metadata": {},
   "source": [
    "##  Print name of all online courses offered by Coding Ninjas. You can fetch the data using their open API :\n",
    "https://api.codingninjas.com/api/v3/courses "
   ]
  },
  {
   "cell_type": "code",
   "execution_count": 20,
   "metadata": {},
   "outputs": [
    {
     "name": "stdout",
     "output_type": "stream",
     "text": [
      "Ninja Competitive Programmer Track\n",
      "C++ Foundation with Data Structures\n",
      "Machine Learning Course\n",
      "Advanced  Front-End Web Development with React\n",
      "Ninja Android Developer Career Track \n",
      "JAVA Foundation with Data Structures\n",
      "Full Stack Web Development\n",
      "Ninja  Web Developer Career Track - NodeJS & ReactJs\n",
      "Data Science & Machine Learning Complete\n",
      "Interview Preparation Course\n",
      "Competitive Programming Course\n",
      "Ninja  Web Developer Career Track - NodeJS\n",
      "Python Foundation with Data Structures\n",
      "Android Development with Kotlin\n",
      "Ninja Data Scientist Career Track\n",
      "Ninja Machine Learning Engineer Career Track\n",
      "Aptitude Preparation Course\n"
     ]
    }
   ],
   "source": [
    "import requests\n",
    "response=requests.get('https://api.codingninjas.com/api/v3/courses')\n",
    "python_data=response.json()\n",
    "##print(response.text)\n",
    "python_data=response.json()\n",
    "##print(type(python_data))\n",
    "python_data['data']['courses']\n",
    "for i in python_data['data']['courses']:\n",
    "    if i['available_online']==True:\n",
    "        print(i['name'])"
   ]
  },
  {
   "cell_type": "markdown",
   "metadata": {},
   "source": [
    "## Print description of first event from Coding Ninjas Events API\n",
    " If ther are no events in this API, then print \"No Events !\"\n",
    "  Data can be fetched from this URL :\n",
    " Coding Ninjas Events API\n",
    "\n"
   ]
  },
  {
   "cell_type": "code",
   "execution_count": 35,
   "metadata": {},
   "outputs": [
    {
     "name": "stdout",
     "output_type": "stream",
     "text": [
      "Who can participate in Ninja Hire?\r\n",
      "The event is open to all engineering students Pan-India, who are in their Final year.\r\n",
      "Land up an Opportunity to work with Coding Ninjas \r\n",
      "Mock test on July 15th, 2020 ( 09:00pm onwards ) 90 minutes test window.\n"
     ]
    }
   ],
   "source": [
    "import requests\n",
    "response=requests.get('https://api.codingninjas.com/api/v3/events?event_category=ALL_EVENTS&event_sub_category=All%20Time%20Favorites&tag_list=&offset=0&_ga=2.259843210.128808624.1588422563-1909493988.1581955170')\n",
    "python_data=response.json()\n",
    "##print(response.text)\n",
    "python_data=response.json()\n",
    "##print(type(python_data))\n",
    "python_data['data']['events']\n",
    "x=0\n",
    "for i in python_data['data']['events']:\n",
    "    if x==1:\n",
    "        break;\n",
    "    print(i['short_desc'])\n",
    "    x=x+1"
   ]
  },
  {
   "cell_type": "markdown",
   "metadata": {},
   "source": [
    "## Print the title of course with id=19.\n",
    "URL : http://api.codingninjas.com/api/v3/courses"
   ]
  },
  {
   "cell_type": "code",
   "execution_count": 36,
   "metadata": {},
   "outputs": [
    {
     "name": "stdout",
     "output_type": "stream",
     "text": [
      "Programming Foundation DS & Algo + Machine Learning\n"
     ]
    }
   ],
   "source": [
    "import requests\n",
    "response=requests.get('https://api.codingninjas.com/api/v3/courses')\n",
    "python_data=response.json()\n",
    "##print(response.text)\n",
    "python_data=response.json()\n",
    "##print(type(python_data))\n",
    "python_data['data']['courses']\n",
    "for i in python_data['data']['courses']:\n",
    "    if i['id']==19:\n",
    "        print(i['title'])"
   ]
  },
  {
   "cell_type": "markdown",
   "metadata": {},
   "source": [
    "## Count the total number of cities of country AU from this URL :  \n",
    "https://api.openaq.org/v1/cities/"
   ]
  },
  {
   "cell_type": "code",
   "execution_count": 53,
   "metadata": {},
   "outputs": [
    {
     "data": {
      "text/plain": [
       "60"
      ]
     },
     "execution_count": 53,
     "metadata": {},
     "output_type": "execute_result"
    }
   ],
   "source": [
    "import requests\n",
    "response=requests.get('https://api.openaq.org/v1/cities/',params={\"country\":\"AU\"})\n",
    "python_data=response.json()\n",
    "##print(response.text)\n",
    "python_data=response.json()\n",
    "##print(type(python_data))\n",
    "##print(python_data['results'])\n",
    "len(python_data['results'])"
   ]
  },
  {
   "cell_type": "markdown",
   "metadata": {},
   "source": [
    "##  Print first 5 cities from country “BE”. Fetch the result from given URL.\n",
    "Order the results by city.\n",
    "URL - https://api.openaq.org/v1/cities\n",
    "Documentation - https://docs.openaq.org/"
   ]
  },
  {
   "cell_type": "code",
   "execution_count": 61,
   "metadata": {},
   "outputs": [
    {
     "name": "stdout",
     "output_type": "stream",
     "text": [
      "Antwerpen\n",
      "Brabant wallon\n",
      "Brussels\n",
      "Brussels-Capital Region\n",
      "Flanders\n"
     ]
    }
   ],
   "source": [
    "import requests\n",
    "response=requests.get('https://api.openaq.org/v1/cities/',params={\"country\":\"BE\",'limit':'5','order_by':'city'})\n",
    "python_data=response.json()\n",
    "##print(response.text)\n",
    "python_data=response.json()\n",
    "##print(type(python_data))\n",
    "##print(python_data['results'])\n",
    "t=1\n",
    "for i in python_data['results']:\n",
    "    if t<=5:\n",
    "        print(i['city'])\n",
    "      \n",
    "    else:\n",
    "        break;\n",
    "##len(python_data['results'])"
   ]
  },
  {
   "cell_type": "markdown",
   "metadata": {},
   "source": [
    "## Make an API call to -\n",
    "https://www.metaweather.com/api/location/search/\n",
    "\n",
    "Search for \"USA\" and print its woeid."
   ]
  },
  {
   "cell_type": "code",
   "execution_count": 2,
   "metadata": {},
   "outputs": [
    {
     "name": "stdout",
     "output_type": "stream",
     "text": [
      "1132447\n"
     ]
    }
   ],
   "source": [
    "\n",
    "import requests\n",
    "response=requests.get('https://www.metaweather.com/api/location/search/',params={\"query\":\"USA\"})\n",
    "##print(response.text)\n",
    "python_data=response.json()\n",
    "##print(type(python_data))\n",
    "print(python_data[0]['woeid'])\n",
    "\n",
    "##len(python_data['results'])"
   ]
  },
  {
   "cell_type": "markdown",
   "metadata": {},
   "source": [
    "## Find name of holiday on 2nd October 2019 in country India.\n",
    "You can read the documentation here : https://holidayapi.com/"
   ]
  },
  {
   "cell_type": "code",
   "execution_count": 3,
   "metadata": {},
   "outputs": [
    {
     "name": "stdout",
     "output_type": "stream",
     "text": [
      "Mahatma Gandhi Jayanti\n"
     ]
    }
   ],
   "source": [
    "\n",
    "import requests\n",
    "response = requests.get('https://holidayapi.com/v1/holidays', params={'country':'IN', 'key':'8235e750-b12a-4b18-93f9-5f3efa16a3cd','month':10, 'day':2,'year':2019})\n",
    "##print(response.url)\n",
    "python_data=response.json()\n",
    "##print(type(python_data))\n",
    "print(python_data['holidays'][0]['name'])\n",
    "\n",
    "##len(python_data['results'])"
   ]
  },
  {
   "cell_type": "code",
   "execution_count": null,
   "metadata": {},
   "outputs": [],
   "source": []
  }
 ],
 "metadata": {
  "kernelspec": {
   "display_name": "Python 3",
   "language": "python",
   "name": "python3"
  },
  "language_info": {
   "codemirror_mode": {
    "name": "ipython",
    "version": 3
   },
   "file_extension": ".py",
   "mimetype": "text/x-python",
   "name": "python",
   "nbconvert_exporter": "python",
   "pygments_lexer": "ipython3",
   "version": "3.7.6"
  }
 },
 "nbformat": 4,
 "nbformat_minor": 4
}
